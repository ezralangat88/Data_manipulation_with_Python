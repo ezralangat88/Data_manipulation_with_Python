{
 "cells": [
  {
   "cell_type": "code",
   "execution_count": 2,
   "id": "e2b6801f-ace7-4c97-913f-64a8e57f4ba5",
   "metadata": {},
   "outputs": [
    {
     "name": "stdout",
     "output_type": "stream",
     "text": [
      "   StudentID     Name  Grade\n",
      "0          1    Alice      9\n",
      "1          2      Bob      8\n",
      "2          3  Charlie     10\n",
      "   CourseID  CourseName Instructor\n",
      "0       101        Math  Dr. Smith\n",
      "1       102     Science  Prof. Lee\n",
      "2       103  Literature  Ms. Jones\n",
      "   StudentID  CourseID EnrollmentDate\n",
      "0          1       101     2021-09-01\n",
      "1          2       102     2021-09-01\n",
      "2          3       103     2021-09-01\n",
      "3          1       103     2021-09-02\n",
      "   StudentID     Name  Grade  CourseID EnrollmentDate  CourseName Instructor\n",
      "0          1    Alice      9       101     2021-09-01        Math  Dr. Smith\n",
      "1          1    Alice      9       103     2021-09-02  Literature  Ms. Jones\n",
      "2          2      Bob      8       102     2021-09-01     Science  Prof. Lee\n",
      "3          3  Charlie     10       103     2021-09-01  Literature  Ms. Jones\n"
     ]
    }
   ],
   "source": [
    "import pandas as pd\n",
    "\n",
    "# Step 1: Load each Excel file into a DataFrame\n",
    "students_df = pd.read_excel('students.xlsx')\n",
    "courses_df = pd.read_excel('courses.xlsx')\n",
    "enrollments_df = pd.read_excel('enrollments.xlsx')\n",
    "\n",
    "print(students_df)\n",
    "print(courses_df)\n",
    "print(enrollments_df)\n",
    "\n",
    "# Step 2: Merge 'students' and 'enrollments' on 'StudentID'\n",
    "# This will give us a combined dataset of students and their enrollments\n",
    "students_enrollments = pd.merge(students_df, enrollments_df, on='StudentID', how='inner')\n",
    "\n",
    "# Step 3: Merge the result with 'courses' on 'CourseID'\n",
    "# This will combine the student and enrollment data with course details\n",
    "final_df = pd.merge(students_enrollments, courses_df, on='CourseID', how='inner')\n",
    "\n",
    "# Step 4: Optionally, you can sort the DataFrame by StudentID for better readability\n",
    "final_df = final_df.sort_values(by='StudentID')\n",
    "\n",
    "# Step 5: Display or save the merged DataFrame\n",
    "print(final_df)\n",
    "\n",
    "# To save the result back to an Excel file\n",
    "final_df.to_excel('merged_data.xlsx', index=False)"
   ]
  },
  {
   "cell_type": "code",
   "execution_count": null,
   "id": "2853c65b-89b4-4d6d-bad7-d65424344fe8",
   "metadata": {},
   "outputs": [],
   "source": []
  }
 ],
 "metadata": {
  "kernelspec": {
   "display_name": "Python 3 (ipykernel)",
   "language": "python",
   "name": "python3"
  },
  "language_info": {
   "codemirror_mode": {
    "name": "ipython",
    "version": 3
   },
   "file_extension": ".py",
   "mimetype": "text/x-python",
   "name": "python",
   "nbconvert_exporter": "python",
   "pygments_lexer": "ipython3",
   "version": "3.10.12"
  }
 },
 "nbformat": 4,
 "nbformat_minor": 5
}
